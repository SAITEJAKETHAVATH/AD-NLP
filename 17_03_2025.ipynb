{
  "nbformat": 4,
  "nbformat_minor": 0,
  "metadata": {
    "colab": {
      "provenance": []
    },
    "kernelspec": {
      "name": "python3",
      "display_name": "Python 3"
    },
    "language_info": {
      "name": "python"
    }
  },
  "cells": [
    {
      "cell_type": "code",
      "execution_count": 2,
      "metadata": {
        "id": "TNyj_yPQXkVk"
      },
      "outputs": [],
      "source": [
        "import google.generativeai as genai\n",
        "from google.colab import userdata\n",
        "\n",
        "GOOGLE_API_KEY = userdata.get('GOOGLE_API_KEY')\n",
        "genai.configure(api_key=GOOGLE_API_KEY)"
      ]
    },
    {
      "cell_type": "code",
      "source": [
        "import pathlib\n",
        "import textwrap\n",
        "\n",
        "from IPython.display import display, Markdown\n",
        "def to_Markdown(text):\n",
        "  text = text.replace('.', '  *')\n",
        "  return Markdown(textwrap.indent(text, '> ', predicate=lambda _: True ))"
      ],
      "metadata": {
        "id": "e8Z7QQl8YcET"
      },
      "execution_count": 4,
      "outputs": []
    },
    {
      "cell_type": "code",
      "source": [
        "import PIL.Image\n",
        "img = PIL.Image.open('image1.jpg')\n",
        "img\n",
        "\n",
        "model = genai.GenerativeModel('gemini-1.5-flash')\n",
        "\n",
        "response = model.generate_content([\n",
        "    \"write a short, engaging blog post based on this picture. \"\n",
        "    \"It should include a description of the meal in the photo and talk about my journey meal prepping.\", img\n",
        "], stream=True)\n",
        "\n",
        "response.resolve()\n"
      ],
      "metadata": {
        "id": "CaMtgHnEZZb2"
      },
      "execution_count": 11,
      "outputs": []
    },
    {
      "cell_type": "code",
      "source": [
        "to_Markdown(response.text)"
      ],
      "metadata": {
        "colab": {
          "base_uri": "https://localhost:8080/",
          "height": 495
        },
        "id": "FSNPNtUAcUjF",
        "outputId": "841926f4-ac87-48aa-bba3-df88f52a4227"
      },
      "execution_count": 12,
      "outputs": [
        {
          "output_type": "execute_result",
          "data": {
            "text/plain": [
              "<IPython.core.display.Markdown object>"
            ],
            "text/markdown": "> ## My Meal Prep Journey: From Chaos to Deliciously Organized!\n> \n> Look at these beauties!  These aren't just any containers; they're my meal prep superstars  *  Each one holds a delicious serving of teriyaki chicken, fluffy white rice, vibrant roasted carrots and peppers, and a generous helping of broccoli  *  Seriously, it's a flavor explosion in every bite – and it's all ready to go!\n> \n> My meal prep journey hasn't always been this picture-perfect  *  For months, I was that person – perpetually late, grabbing whatever was quickest (read: unhealthy), and consistently battling hunger pangs  *  My energy levels were abysmal, and my food budget was out of control  *  \n> \n> Then I decided enough was enough  *  I started small, researching simple recipes and investing in some good quality storage containers (like the ones pictured!)  *  My first attempt was…rustic, let's say  *  A few burnt veggies and slightly overcooked rice, but it was a step in the right direction  *  \n> \n> Slowly, I refined my techniques  * I discovered the magic of prepping ingredients ahead of time and found some fantastic batch-cooking recipes  *  Now, my Sundays are dedicated to creating healthy, delicious, and convenient meals for the week  *  Not only has this saved me tons of time and money, but my energy levels have skyrocketed, and I feel so much better overall  *\n> \n> So, if you're struggling with mealtimes, trust me, meal prepping is worth the effort  * Start small, be patient with yourself, and celebrate those small victories along the way  *  Your healthier, happier self will thank you for it!  What are your favorite meal prep tips? Share them below!\n"
          },
          "metadata": {},
          "execution_count": 12
        }
      ]
    },
    {
      "cell_type": "code",
      "source": [
        "response = model.generate_content([\"Generate an accurate caption for this image.\", img])\n",
        "print(response.text)"
      ],
      "metadata": {
        "colab": {
          "base_uri": "https://localhost:8080/",
          "height": 401
        },
        "id": "KBh_PQB1cUmh",
        "outputId": "b7ab8230-50a0-47bb-f2eb-3461c613ee79"
      },
      "execution_count": 13,
      "outputs": [
        {
          "output_type": "stream",
          "name": "stdout",
          "text": [
            "Here are a few caption options for the image:\n",
            "\n",
            "**Option 1 (Simple & descriptive):**\n",
            "\n",
            "> Healthy and delicious meal prep!  Chicken and broccoli with rice.\n",
            "\n",
            "**Option 2 (Slightly more engaging):**\n",
            "\n",
            "> Lunch goals!  These chicken and veggie bowls are packed with flavor and ready to go. #mealprep #healthyfood #lunchideas\n",
            "\n",
            "**Option 3 (Focus on ease and convenience):**\n",
            "\n",
            "> Easy weeknight dinners?  Check!  These prepped meals make healthy eating a breeze. #mealprepsunday #healthylifestyle #easyrecipes\n",
            "\n",
            "\n",
            "**Option 4 (More detailed):**\n",
            "\n",
            "> Teriyaki chicken and broccoli rice bowls. The perfect combination of protein, vegetables, and carbs for a balanced meal.  #teriyaki #chickenandbroccoli #ricebowls #healthyrecipe\n",
            "\n",
            "Choose the option that best suits your intended audience and platform.\n",
            "\n"
          ]
        }
      ]
    },
    {
      "cell_type": "code",
      "source": [
        "from PIL import Image\n",
        "image_path = \"girl.jpg\"\n",
        "image = Image.open(image_path)\n",
        "response = model.generate_content([\"Describe this image in detail.\", image])\n",
        "print(response.text)"
      ],
      "metadata": {
        "colab": {
          "base_uri": "https://localhost:8080/",
          "height": 211
        },
        "id": "qUUak7qdgEZS",
        "outputId": "ab3efa3b-64e1-4829-d629-36c6064a2654"
      },
      "execution_count": 14,
      "outputs": [
        {
          "output_type": "stream",
          "name": "stdout",
          "text": [
            "Here's a description of the image:\n",
            "\n",
            "Close-up view of a woman with shoulder-length, curly brown hair. \n",
            "\n",
            "\n",
            "She is light-skinned and has a pleasant expression, smiling slightly. Her makeup is subtle and natural-looking. She's wearing a teal-colored, three-quarter sleeve tunic or kurta with a small, repeating gold pattern. The neckline is a simple, slightly open V-neck. Her arms are crossed, and her right index finger is pointing outward, suggesting she's indicating something off-camera. \n",
            "\n",
            "\n",
            "The background is a plain, bright white, which keeps the focus entirely on the woman. The overall impression is one of approachability and friendliness. The lighting is soft and even, minimizing harsh shadows.\n",
            "\n"
          ]
        }
      ]
    },
    {
      "cell_type": "code",
      "source": [
        "response = model.generate_content([\"What emotions can you detect in this image?.\", image])\n",
        "print(response.text)"
      ],
      "metadata": {
        "colab": {
          "base_uri": "https://localhost:8080/",
          "height": 211
        },
        "id": "DGzEWdNLhhyY",
        "outputId": "4cffec17-2a1e-4bd0-988f-353e9aed894c"
      },
      "execution_count": 15,
      "outputs": [
        {
          "output_type": "stream",
          "name": "stdout",
          "text": [
            "Here are some emotions that could be detected in the image:\n",
            "\n",
            "* **Happiness/Joy:** Her smile is genuine and bright, suggesting a positive emotional state.  The overall posture is relaxed and open.\n",
            "* **Confidence:** The direct gaze and pointing gesture indicate self-assurance and a willingness to communicate.\n",
            "* **Friendliness/Approachability:** The smile and open posture make her appear inviting and approachable.\n",
            "* **Helpfulness/Informative:** The pointing gesture suggests she's offering information or direction.\n",
            "\n",
            "\n",
            "It's important to note that emotion detection in images is not perfectly precise.  These interpretations are based on visual cues and may not reflect the woman's actual internal emotional state.\n",
            "\n"
          ]
        }
      ]
    },
    {
      "cell_type": "markdown",
      "source": [],
      "metadata": {
        "id": "H-qdiqI3aT1T"
      }
    }
  ]
}