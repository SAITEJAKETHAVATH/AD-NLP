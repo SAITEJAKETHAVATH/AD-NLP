{
 "cells": [
  {
   "cell_type": "code",
   "execution_count": 2,
   "id": "3121d766-17fb-4653-b6c1-6cd81e1270f4",
   "metadata": {},
   "outputs": [
    {
     "name": "stdout",
     "output_type": "stream",
     "text": [
      "Collecting pyPDF2\n",
      "  Downloading pypdf2-3.0.1-py3-none-any.whl.metadata (6.8 kB)\n",
      "Downloading pypdf2-3.0.1-py3-none-any.whl (232 kB)\n",
      "Installing collected packages: pyPDF2\n",
      "Successfully installed pyPDF2-3.0.1\n"
     ]
    }
   ],
   "source": [
    "!pip install pyPDF2"
   ]
  },
  {
   "cell_type": "code",
   "execution_count": 4,
   "id": "d0ac934a-8bf6-448b-a3a2-0a03886a131c",
   "metadata": {},
   "outputs": [],
   "source": [
    "import PyPDF2\n",
    "from PyPDF2 import PdfFileReader"
   ]
  },
  {
   "cell_type": "code",
   "execution_count": 9,
   "id": "807f92f0-ebc7-4df9-b87d-26f2d68a3137",
   "metadata": {},
   "outputs": [
    {
     "name": "stdout",
     "output_type": "stream",
     "text": [
      "Number of pages: 35\n",
      " \n",
      " \n",
      " Development  Plan for Greater Mumbai 2014‐2034                                                                                                                                                                                                                                                      \n",
      "Acknowledgements  \n",
      "The Consultant  wishes to thank the following  individuals  from the Municipal  Corporation  of \n",
      "Greater Mumbai for their invaluable  support, insights and contributions  towards ‘Working  Paper 1 \n",
      "– Preparation  of Base Map’ for the preparation  of the Development  Plan for Greater Mumbai \n",
      "2014‐34. \n",
      " Mr. Subodh Kumar, IAS, Municipal  Commissioner;  \n",
      " Mr. Rajeev Kuknoor, Chief Engineer Development  Plan; \n",
      " Mr. Sudhir Ghate, Deputy Chief Engineer Development  Plan; \n",
      " Mr. A.G. Marathe, Deputy Chief Engineer Development  Plan; \n",
      " Mr. R. Balachandran,  Executive  Engineer and Town Planning Officer, Development  Plan. \n",
      " Our gratitude  to the following  experts for their invaluable  insights and support: \n",
      " \n",
      "Mr. V.K Phatak, Former Chief Town Planner (MMRDA);  \n",
      " Mr. A.N Kale, Former Chief Engineer, (DP); \n",
      " Mr. A. S Jain Former Dy. Chief Engineer, (DP). \n",
      " We wish to especially  thank MCGM officers, Mr. Jagdish Talreja, Mr. Dinesh Naik, Mr. Hiren \n",
      "Daftardar,  Ms. Anita Naik for their continual  support since the\n",
      " beginning  of the project and their \n",
      "help towards familiarization  and data collection.  They have been instrumental  in helping to \n",
      "contact various MCGM departments  as well as in helping to establish contact with personnel  from \n",
      "other government  departments  and organizations.  Many thanks for the MCGM team, for \n",
      "deploying  personnel,  particularly  Mr. Prasad Gharat, on extensive  field visits that have helped in \n",
      "understanding  actual ground conditions.  \n",
      " \n",
      "We apologize  if we have inadvertently  omitted anyone to whom acknowledgement  is due. We hope \n",
      "and anticipate  the work's usefulness  for the intended purpose. \n",
      " \n"
     ]
    }
   ],
   "source": [
    "import PyPDF2\n",
    "\n",
    "pdf_path = r\"C:\\Users\\SAITEJA\\Downloads\\file1pdf.pdf\"\n",
    "\n",
    "with open(pdf_path, \"rb\") as pdf:\n",
    "    pdf_reader = PyPDF2.PdfReader(pdf)\n",
    "    \n",
    "    # Print the number of pages\n",
    "    num_pages = len(pdf_reader.pages)\n",
    "    print(\"Number of pages:\", num_pages)\n",
    "    \n",
    "    # Ensure there is more than one page before accessing the second page\n",
    "    if num_pages > 1:\n",
    "        page = pdf_reader.pages[1]\n",
    "        print(page.extract_text())  # Extract and print text from page 2\n",
    "    else:\n",
    "        print(\"The PDF has only one page.\")\n"
   ]
  },
  {
   "cell_type": "code",
   "execution_count": 10,
   "id": "0b3dd05c-fa76-49eb-a8a8-14b9c30bb9d7",
   "metadata": {},
   "outputs": [],
   "source": [
    "import PyPDF2, urllib , nltk\n",
    "\n",
    "from io import BytesIO\n",
    "\n",
    "from nltk.tokenize import word_tokenize\n",
    "\n",
    "from nltk.corpus import stopwords"
   ]
  },
  {
   "cell_type": "code",
   "execution_count": 4,
   "id": "bf9353fc-aacd-4d59-a884-43353ac562ac",
   "metadata": {},
   "outputs": [
    {
     "name": "stdout",
     "output_type": "stream",
     "text": [
      "PDF successfully loaded with 35 pages.\n"
     ]
    }
   ],
   "source": [
    "import urllib.request\n",
    "import PyPDF2\n",
    "from io import BytesIO\n",
    "\n",
    "# Define PDF URL\n",
    "url = \"http://www.udri.org/pdf/02%20working%20paper%201.pdf\"\n",
    "\n",
    "try:\n",
    "    # Open and read the PDF from the URL\n",
    "    with urllib.request.urlopen(url) as wFile:\n",
    "        pdfreader = PyPDF2.PdfReader(BytesIO(wFile.read()))\n",
    "    \n",
    "    # Check number of pages\n",
    "    num_pages = len(pdfreader.pages)\n",
    "    print(f\"PDF successfully loaded with {num_pages} pages.\")\n",
    "    \n",
    "except Exception as e:\n",
    "    print(f\"Error loading PDF: {e}\")\n"
   ]
  },
  {
   "cell_type": "code",
   "execution_count": 6,
   "id": "c05a55eb-8d79-490c-9047-86b039a28c41",
   "metadata": {},
   "outputs": [
    {
     "name": "stderr",
     "output_type": "stream",
     "text": [
      "[nltk_data] Downloading package punkt to\n",
      "[nltk_data]     C:\\Users\\SAITEJA\\AppData\\Roaming\\nltk_data...\n",
      "[nltk_data]   Package punkt is already up-to-date!\n",
      "[nltk_data] Downloading package stopwords to\n",
      "[nltk_data]     C:\\Users\\SAITEJA\\AppData\\Roaming\\nltk_data...\n",
      "[nltk_data]   Package stopwords is already up-to-date!\n"
     ]
    },
    {
     "name": "stdout",
     "output_type": "stream",
     "text": [
      "['Development', 'Plan', 'Greater', 'Mumbai', '2014‐2034', 'Acknowledgements', 'Consultant', 'wishes', 'thank', 'following', 'individuals', 'Municipal', 'Corporation', 'Greater', 'Mumbai', 'invaluable', 'support', 'insights', 'contributions', 'towards', '‘', 'Working', 'Paper', '1', '–', 'Preparation', 'Base', 'Map', '’', 'preparation', 'Development', 'Plan', 'Greater', 'Mumbai', '2014‐34', '\\uf0a7', 'Mr.', 'Subodh', 'Kumar', 'IAS', 'Municipal', 'Commissioner', '\\uf0a7', 'Mr.', 'Rajeev', 'Kuknoor', 'Chief', 'Engineer', 'Development', 'Plan', '\\uf0a7', 'Mr.', 'Sudhir', 'Ghate', 'Deputy', 'Chief', 'Engineer', 'Development', 'Plan', '\\uf0a7', 'Mr.', 'A.G.', 'Marathe', 'Deputy', 'Chief', 'Engineer', 'Development', 'Plan', '\\uf0a7', 'Mr.', 'R.', 'Balachandran', 'Executive', 'Engineer', 'Town', 'Planning', 'Officer', 'Development', 'Plan', 'gratitude', 'following', 'experts', 'invaluable', 'insights', 'support', '\\uf0a7', 'Mr.', 'V.K', 'Phatak', 'Former', 'Chief', 'Town', 'Planner', 'MMRDA', '\\uf0a7', 'Mr.', 'A.N', 'Kale', 'Former', 'Chief', 'Engineer', 'DP', '\\uf0a7', 'Mr.', 'A.', 'Jain', 'Former', 'Dy.', 'Chief', 'Engineer', 'DP', 'wish', 'especially', 'thank', 'MCGM', 'officers', 'Mr.', 'Jagdish', 'Talreja', 'Mr.', 'Dinesh', 'Naik', 'Mr.', 'Hiren', 'Daftardar', 'Ms.', 'Anita', 'Naik', 'continual', 'support', 'since', 'beginning', 'project', 'help', 'towards', 'familiarization', 'data', 'collection', 'instrumental', 'helping', 'contact', 'various', 'MCGM', 'departments', 'well', 'helping', 'establish', 'contact', 'personnel', 'government', 'departments', 'organizations', 'Many', 'thanks', 'MCGM', 'team', 'deploying', 'personnel', 'particularly', 'Mr.', 'Prasad', 'Gharat', 'extensive', 'field', 'visits', 'helped', 'understanding', 'actual', 'ground', 'conditions', 'apologize', 'inadvertently', 'omitted', 'anyone', 'acknowledgement', 'due', 'hope', 'anticipate', 'work', \"'s\", 'usefulness', 'intended', 'purpose']\n"
     ]
    }
   ],
   "source": [
    "import urllib.request\n",
    "import PyPDF2\n",
    "from io import BytesIO\n",
    "import string\n",
    "from nltk.tokenize import word_tokenize\n",
    "from nltk.corpus import stopwords\n",
    "\n",
    "# Download necessary NLTK resources (only run once)\n",
    "import nltk\n",
    "nltk.download('punkt')\n",
    "nltk.download('stopwords')\n",
    "\n",
    "# Define PDF URL\n",
    "url = \"http://www.udri.org/pdf/02%20working%20paper%201.pdf\"\n",
    "\n",
    "try:\n",
    "    # Open and read the PDF from the URL\n",
    "    with urllib.request.urlopen(url) as wFile:\n",
    "        pdfreader = PyPDF2.PdfReader(BytesIO(wFile.read()))\n",
    "    \n",
    "    # Extract text from page 2 (index 1)\n",
    "    pageObj = pdfreader.pages[1]\n",
    "    page2 = pageObj.extract_text() or \"\"\n",
    "\n",
    "    # Define stopwords and punctuation\n",
    "    stop_words = set(stopwords.words('english'))\n",
    "    punctuations = set(string.punctuation)\n",
    "\n",
    "    # Tokenize the text\n",
    "    tokens = word_tokenize(page2)\n",
    "\n",
    "    # Filter out stopwords and punctuation\n",
    "    keywords = [word for word in tokens if word.lower() not in stop_words and word not in punctuations]\n",
    "\n",
    "    print(keywords)  # Output the cleaned tokens\n",
    "\n",
    "except Exception as e:\n",
    "    print(f\"Error: {e}\")\n"
   ]
  },
  {
   "cell_type": "code",
   "execution_count": 7,
   "id": "85dab736-9d77-4584-8e9c-d74998d87781",
   "metadata": {},
   "outputs": [
    {
     "data": {
      "text/plain": [
       "['Development',\n",
       " 'Plan',\n",
       " 'Greater',\n",
       " 'Mumbai',\n",
       " '2014‐2034',\n",
       " 'Acknowledgements',\n",
       " 'Consultant',\n",
       " 'wishes',\n",
       " 'thank',\n",
       " 'following',\n",
       " 'individuals',\n",
       " 'Municipal',\n",
       " 'Corporation',\n",
       " 'Greater',\n",
       " 'Mumbai',\n",
       " 'invaluable',\n",
       " 'support',\n",
       " 'insights',\n",
       " 'contributions',\n",
       " 'towards',\n",
       " '‘',\n",
       " 'Working',\n",
       " 'Paper',\n",
       " '1',\n",
       " '–',\n",
       " 'Preparation',\n",
       " 'Base',\n",
       " 'Map',\n",
       " '’',\n",
       " 'preparation',\n",
       " 'Development',\n",
       " 'Plan',\n",
       " 'Greater',\n",
       " 'Mumbai',\n",
       " '2014‐34',\n",
       " '\\uf0a7',\n",
       " 'Mr.',\n",
       " 'Subodh',\n",
       " 'Kumar',\n",
       " 'IAS',\n",
       " 'Municipal',\n",
       " 'Commissioner',\n",
       " '\\uf0a7',\n",
       " 'Mr.',\n",
       " 'Rajeev',\n",
       " 'Kuknoor',\n",
       " 'Chief',\n",
       " 'Engineer',\n",
       " 'Development',\n",
       " 'Plan',\n",
       " '\\uf0a7',\n",
       " 'Mr.',\n",
       " 'Sudhir',\n",
       " 'Ghate',\n",
       " 'Deputy',\n",
       " 'Chief',\n",
       " 'Engineer',\n",
       " 'Development',\n",
       " 'Plan',\n",
       " '\\uf0a7',\n",
       " 'Mr.',\n",
       " 'A.G.',\n",
       " 'Marathe',\n",
       " 'Deputy',\n",
       " 'Chief',\n",
       " 'Engineer',\n",
       " 'Development',\n",
       " 'Plan',\n",
       " '\\uf0a7',\n",
       " 'Mr.',\n",
       " 'R.',\n",
       " 'Balachandran',\n",
       " 'Executive',\n",
       " 'Engineer',\n",
       " 'Town',\n",
       " 'Planning',\n",
       " 'Officer',\n",
       " 'Development',\n",
       " 'Plan',\n",
       " 'gratitude',\n",
       " 'following',\n",
       " 'experts',\n",
       " 'invaluable',\n",
       " 'insights',\n",
       " 'support',\n",
       " '\\uf0a7',\n",
       " 'Mr.',\n",
       " 'V.K',\n",
       " 'Phatak',\n",
       " 'Former',\n",
       " 'Chief',\n",
       " 'Town',\n",
       " 'Planner',\n",
       " 'MMRDA',\n",
       " '\\uf0a7',\n",
       " 'Mr.',\n",
       " 'A.N',\n",
       " 'Kale',\n",
       " 'Former',\n",
       " 'Chief',\n",
       " 'Engineer',\n",
       " 'DP',\n",
       " '\\uf0a7',\n",
       " 'Mr.',\n",
       " 'A.',\n",
       " 'Jain',\n",
       " 'Former',\n",
       " 'Dy.',\n",
       " 'Chief',\n",
       " 'Engineer',\n",
       " 'DP',\n",
       " 'wish',\n",
       " 'especially',\n",
       " 'thank',\n",
       " 'MCGM',\n",
       " 'officers',\n",
       " 'Mr.',\n",
       " 'Jagdish',\n",
       " 'Talreja',\n",
       " 'Mr.',\n",
       " 'Dinesh',\n",
       " 'Naik',\n",
       " 'Mr.',\n",
       " 'Hiren',\n",
       " 'Daftardar',\n",
       " 'Ms.',\n",
       " 'Anita',\n",
       " 'Naik',\n",
       " 'continual',\n",
       " 'support',\n",
       " 'since',\n",
       " 'beginning',\n",
       " 'project',\n",
       " 'help',\n",
       " 'towards',\n",
       " 'familiarization',\n",
       " 'data',\n",
       " 'collection',\n",
       " 'instrumental',\n",
       " 'helping',\n",
       " 'contact',\n",
       " 'various',\n",
       " 'MCGM',\n",
       " 'departments',\n",
       " 'well',\n",
       " 'helping',\n",
       " 'establish',\n",
       " 'contact',\n",
       " 'personnel',\n",
       " 'government',\n",
       " 'departments',\n",
       " 'organizations',\n",
       " 'Many',\n",
       " 'thanks',\n",
       " 'MCGM',\n",
       " 'team',\n",
       " 'deploying',\n",
       " 'personnel',\n",
       " 'particularly',\n",
       " 'Mr.',\n",
       " 'Prasad',\n",
       " 'Gharat',\n",
       " 'extensive',\n",
       " 'field',\n",
       " 'visits',\n",
       " 'helped',\n",
       " 'understanding',\n",
       " 'actual',\n",
       " 'ground',\n",
       " 'conditions',\n",
       " 'apologize',\n",
       " 'inadvertently',\n",
       " 'omitted',\n",
       " 'anyone',\n",
       " 'acknowledgement',\n",
       " 'due',\n",
       " 'hope',\n",
       " 'anticipate',\n",
       " 'work',\n",
       " \"'s\",\n",
       " 'usefulness',\n",
       " 'intended',\n",
       " 'purpose']"
      ]
     },
     "execution_count": 7,
     "metadata": {},
     "output_type": "execute_result"
    }
   ],
   "source": [
    "keywords"
   ]
  },
  {
   "cell_type": "code",
   "execution_count": 8,
   "id": "cbd4f899-8367-4a5b-baab-58f54fdb2581",
   "metadata": {},
   "outputs": [
    {
     "name": "stdout",
     "output_type": "stream",
     "text": [
      "['Mr.Subodh Kumar', 'Mr.Rajeev Kuknoor', 'Mr.Sudhir Ghate', 'Mr.A.G. Marathe', 'Mr.R. Balachandran', 'Mr.V.K Phatak', 'Mr.A.N Kale', 'Mr.A. S', 'Mr.Jagdish Talreja', 'Mr.Dinesh Naik', 'Mr.Hiren Daftardar', 'Ms.Anita Naik', 'Mr.Prasad Gharat']\n"
     ]
    }
   ],
   "source": [
    "name_list = list()\n",
    "check =  ['Mr.', 'Mrs.', 'Ms.']\n",
    "for idx, token in enumerate(tokens):\n",
    "    if token.startswith(tuple(check)) and idx < (len(tokens)-1):\n",
    "        name = token + tokens[idx+1] + ' ' +  tokens[idx+2]\n",
    "        name_list.append(name)\n",
    "print(name_list)"
   ]
  },
  {
   "cell_type": "code",
   "execution_count": 9,
   "id": "ca900cc1-7d85-4827-9048-77a08f58cad1",
   "metadata": {},
   "outputs": [
    {
     "name": "stdout",
     "output_type": "stream",
     "text": [
      "Collecting python-docx\n",
      "  Downloading python_docx-1.1.2-py3-none-any.whl.metadata (2.0 kB)\n",
      "Requirement already satisfied: lxml>=3.1.0 in c:\\users\\saiteja\\anaconda3\\lib\\site-packages (from python-docx) (5.2.1)\n",
      "Requirement already satisfied: typing-extensions>=4.9.0 in c:\\users\\saiteja\\anaconda3\\lib\\site-packages (from python-docx) (4.11.0)\n",
      "Downloading python_docx-1.1.2-py3-none-any.whl (244 kB)\n",
      "Installing collected packages: python-docx\n",
      "Successfully installed python-docx-1.1.2\n"
     ]
    }
   ],
   "source": [
    "!pip install python-docx"
   ]
  },
  {
   "cell_type": "code",
   "execution_count": 10,
   "id": "901eefb5-8bb4-4815-b557-9363b9be65fc",
   "metadata": {},
   "outputs": [],
   "source": [
    "import docx"
   ]
  },
  {
   "cell_type": "code",
   "execution_count": 17,
   "id": "b032cafd-e57c-4e85-bd80-ae9c7aab2296",
   "metadata": {},
   "outputs": [
    {
     "name": "stdout",
     "output_type": "stream",
     "text": [
      " \n",
      " \n",
      " Development  Plan for Greater Mumbai 2014‐2034    \n",
      "\n"
     ]
    }
   ],
   "source": [
    "import PyPDF2\n",
    "\n",
    "with open(r\"C:\\Users\\SAITEJA\\Downloads\\file1pdf.pdf\", \"rb\") as doc:\n",
    "    pdfreader = PyPDF2.PdfReader(doc)\n",
    "    text = pdfreader.pages[0].extract_text()\n",
    "    print(text)\n"
   ]
  },
  {
   "cell_type": "code",
   "execution_count": null,
   "id": "0d141229-078d-4c6b-9e6e-30911806985b",
   "metadata": {},
   "outputs": [],
   "source": []
  }
 ],
 "metadata": {
  "kernelspec": {
   "display_name": "Python 3 (ipykernel)",
   "language": "python",
   "name": "python3"
  },
  "language_info": {
   "codemirror_mode": {
    "name": "ipython",
    "version": 3
   },
   "file_extension": ".py",
   "mimetype": "text/x-python",
   "name": "python",
   "nbconvert_exporter": "python",
   "pygments_lexer": "ipython3",
   "version": "3.12.7"
  }
 },
 "nbformat": 4,
 "nbformat_minor": 5
}
